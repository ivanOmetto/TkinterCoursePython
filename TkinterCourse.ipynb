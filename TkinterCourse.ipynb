{
 "cells": [
  {
   "cell_type": "markdown",
   "id": "8f7efffd",
   "metadata": {},
   "source": [
    "## Intro"
   ]
  },
  {
   "cell_type": "code",
   "execution_count": 5,
   "id": "c14ec55d",
   "metadata": {},
   "outputs": [],
   "source": [
    "from tkinter import *"
   ]
  },
  {
   "cell_type": "code",
   "execution_count": 10,
   "id": "45739027",
   "metadata": {},
   "outputs": [],
   "source": [
    "root = Tk()\n",
    "\n",
    "# create a Label Widget\n",
    "myLabel = Label(root, text=\"Hello world\")\n",
    "# showing it on the screen\n",
    "myLabel.pack()\n",
    "\n",
    "# show screen\n",
    "root.mainloop()"
   ]
  },
  {
   "cell_type": "markdown",
   "id": "0713e494",
   "metadata": {},
   "source": [
    "## Positioning with Tkinter's grid system"
   ]
  },
  {
   "cell_type": "code",
   "execution_count": 15,
   "id": "697571b8",
   "metadata": {},
   "outputs": [],
   "source": [
    "root = Tk()\n",
    "\n",
    "myLabel = Label(root, text=\"test grid\")\n",
    "myLabel2 = Label(root, text=\"test grid 2\")\n",
    "myLabel3 = Label(root, text=\"        *          \")\n",
    "\n",
    "# position relative to the elements\n",
    "\n",
    "myLabel.grid(row=1, column=0)\n",
    "myLabel2.grid(row=2, column=2)\n",
    "myLabel3.grid(row=1, column=1)\n",
    "\n",
    "root.mainloop()"
   ]
  },
  {
   "cell_type": "code",
   "execution_count": 16,
   "id": "32351608",
   "metadata": {},
   "outputs": [],
   "source": [
    "root = Tk()\n",
    "\n",
    "myLabel = Label(root, text=\"test grid\").grid(row=1, column=0)\n",
    "myLabel2 = Label(root, text=\"test grid 2\").grid(row=2, column=2)\n",
    "myLabel3 = Label(root, text=\"        *          \").grid(row=1, column=1)\n",
    "\n",
    "root.mainloop()"
   ]
  },
  {
   "cell_type": "markdown",
   "id": "1cd1ee58",
   "metadata": {},
   "source": [
    "## Creating buttons"
   ]
  },
  {
   "cell_type": "code",
   "execution_count": 33,
   "id": "40b6f1a3",
   "metadata": {},
   "outputs": [],
   "source": [
    "root = Tk()\n",
    "\n",
    "# create element button\n",
    "\n",
    "myButton = Button(root, text=\"Button1\")\n",
    "myButton2 = Button(root, text=\"Button2\", state=DISABLED)\n",
    "myButton3 = Button(root, text=\"Button3\", padx=50, pady=50)\n",
    "myButton4 = Button(root, text=\"Button3\", fg=\"blue\", bg=\"red\")\n",
    "\n",
    "# show button\n",
    "\n",
    "myButton.pack()\n",
    "myButton2.pack()\n",
    "myButton3.pack()\n",
    "myButton4.pack()\n",
    "\n",
    "root.mainloop()"
   ]
  },
  {
   "cell_type": "code",
   "execution_count": 30,
   "id": "8a89770f",
   "metadata": {},
   "outputs": [],
   "source": [
    "root = Tk()\n",
    "\n",
    "def myClick():\n",
    "    myLabel = Label(root, text=\"the button was clicked!\")\n",
    "    myLabel.pack()\n",
    "    \n",
    "# execute function when clicked\n",
    "\n",
    "myButton = Button(root, text=\"Button\", command=myClick).pack()\n",
    "\n",
    "root.mainloop()"
   ]
  },
  {
   "cell_type": "markdown",
   "id": "f6c3eed7",
   "metadata": {},
   "source": [
    "## Creating input fields"
   ]
  },
  {
   "cell_type": "code",
   "execution_count": 36,
   "id": "01f19652",
   "metadata": {},
   "outputs": [],
   "source": [
    "root = Tk()\n",
    "\n",
    "# creates element input box\n",
    "e = Entry(root)\n",
    "e2 = Entry(root, width=50, borderwidth=5, bg=\"pink\", fg=\"blue\")\n",
    "\n",
    "# show input box\n",
    "e.pack()\n",
    "e2.pack()\n",
    "\n",
    "root.mainloop()"
   ]
  },
  {
   "cell_type": "code",
   "execution_count": 40,
   "id": "9b84b74e",
   "metadata": {},
   "outputs": [],
   "source": [
    "root = Tk()\n",
    "\n",
    "def myClick():\n",
    "    myLabel = Label(root, text=\"Hello, \" + e.get()) # get text from input box\n",
    "    myLabel.pack()\n",
    "\n",
    "e = Entry(root)\n",
    "e.pack()\n",
    "e.insert(0, \"Enter your name\") # insert text in input box\n",
    "\n",
    "myButton = Button(root, text=\"Enter your name\", command=myClick).pack()\n",
    "\n",
    "root.mainloop()"
   ]
  },
  {
   "cell_type": "code",
   "execution_count": null,
   "id": "df190d2c",
   "metadata": {},
   "outputs": [],
   "source": []
  }
 ],
 "metadata": {
  "kernelspec": {
   "display_name": "Python 3 (ipykernel)",
   "language": "python",
   "name": "python3"
  },
  "language_info": {
   "codemirror_mode": {
    "name": "ipython",
    "version": 3
   },
   "file_extension": ".py",
   "mimetype": "text/x-python",
   "name": "python",
   "nbconvert_exporter": "python",
   "pygments_lexer": "ipython3",
   "version": "3.10.2"
  }
 },
 "nbformat": 4,
 "nbformat_minor": 5
}
